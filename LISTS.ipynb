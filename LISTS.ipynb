{
 "cells": [
  {
   "cell_type": "code",
   "execution_count": 2,
   "metadata": {},
   "outputs": [
    {
     "name": "stdout",
     "output_type": "stream",
     "text": [
      "1:We created a blank list\n",
      "[]\n",
      "\n",
      "2:list using string\n",
      "['SHRUTI']\n",
      "\n",
      "3:list contains multiple values\n",
      "['APPEND', 'IS AN OPERATION', 'USED ON LISTS']\n",
      "\n",
      "4:list contains numbers and string\n",
      "[1, 10, 20, 'hundred', 'thousand']\n"
     ]
    }
   ],
   "source": [
    "#LISTS  Here we can store any datatype such as string,integers,objects   \n",
    "#CREATION OF LIST\n",
    "LIST = []\n",
    "print('1:We created a blank list')\n",
    "print(LIST)\n",
    "\n",
    "LIST = ['SHRUTI'] #list using strings\n",
    "print('\\n2:list using string')\n",
    "print(LIST)\n",
    "\n",
    "LIST = ['APPEND','IS AN OPERATION','USED ON LISTS'] #we can enter many values\n",
    "print('\\n3:list contains multiple values')\n",
    "print(LIST)\n",
    "\n",
    "LIST = [1,10,20,'hundred','thousand']\n",
    "print('\\n4:list contains numbers and string') #mix of both numbers and string\n",
    "print(LIST)\n"
   ]
  },
  {
   "cell_type": "code",
   "execution_count": 2,
   "metadata": {},
   "outputs": [
    {
     "name": "stdout",
     "output_type": "stream",
     "text": [
      "initial list:\n",
      "[18, 5, 96, 'Python']\n",
      "appended list is:\n",
      "[18, 5, 96, 'Python', 'java']\n"
     ]
    }
   ],
   "source": [
    "#LIST OPERATIONS \n",
    "\n",
    "#adding elements to a list using append(value) method\n",
    "\n",
    "LISTA = [18,5,96,'Python'] \n",
    "print('initial list:')\n",
    "print(LISTA)\n",
    "LISTA.append('java')\n",
    "print('appended list is:')\n",
    "print(LISTA)\n"
   ]
  },
  {
   "cell_type": "code",
   "execution_count": 3,
   "metadata": {},
   "outputs": [
    {
     "name": "stdout",
     "output_type": "stream",
     "text": [
      "initial list:\n",
      "['a', 'b', 'c']\n",
      "list after inserting:\n",
      "['alphabets', 'a', 'b', 5, 'c']\n"
     ]
    }
   ],
   "source": [
    "#insert(position,value)\n",
    "#here we can add element at specific position\n",
    "\n",
    "listb= ['a','b','c']\n",
    "print('initial list:')\n",
    "print(listb)\n",
    "\n",
    "listb.insert(2,5)\n",
    "listb.insert(0,'alphabets')\n",
    "print('list after inserting:')\n",
    "print(listb)"
   ]
  },
  {
   "cell_type": "code",
   "execution_count": 4,
   "metadata": {},
   "outputs": [
    {
     "name": "stdout",
     "output_type": "stream",
     "text": [
      "[1, 2, 3]\n",
      "list after inserting:\n",
      "[1, 2, 3, 4, 'd', 'e is 5th element']\n"
     ]
    }
   ],
   "source": [
    "#extend(list_name) used to add multiple values at end of the list\n",
    "listb=[1,2,3]\n",
    "print(listb)\n",
    "listb.extend([4,'d','e is 5th element'])\n",
    "print('list after inserting:')\n",
    "print(listb)"
   ]
  },
  {
   "cell_type": "code",
   "execution_count": 6,
   "metadata": {},
   "outputs": [
    {
     "name": "stdout",
     "output_type": "stream",
     "text": [
      "[2, 4, 8, 10, 1, 14, 15]\n",
      "list after using remove\n",
      "[2, 4, 10, 1, 14, 15]\n",
      "\n",
      " initial list:\n",
      "[2, 4, 10, 1, 14, 15]\n",
      "after popping:\n",
      "[2, 4, 10, 14, 15]\n"
     ]
    }
   ],
   "source": [
    "#deletion in list[  remove(element), pop(position_element)   ]\n",
    "LISTC=[2,4,8,10,1,14,15]\n",
    "print(LISTC)\n",
    "LISTC.remove(8)\n",
    "print('list after using remove')\n",
    "print(LISTC)\n",
    "\n",
    "#POP() it removes only the element that belongs to particular index we mention\n",
    "print('\\n initial list:')\n",
    "print(LISTC)\n",
    "LISTC.pop(3)\n",
    "print('after popping:')\n",
    "print(LISTC)"
   ]
  },
  {
   "cell_type": "code",
   "execution_count": 11,
   "metadata": {
    "scrolled": true
   },
   "outputs": [
    {
     "name": "stdout",
     "output_type": "stream",
     "text": [
      "[1, 2, 3, 4, 5, 6, 7, 8, 9, 10]\n",
      "slicing elements in a range 2-5\n",
      "[3, 4, 5]\n",
      "\n",
      "reverse of a string:\n",
      "[10, 9, 8, 7, 6, 5, 4, 3, 2, 1]\n"
     ]
    }
   ],
   "source": [
    "#Slicing of list: we can access a range of items in a list by using the (colon)\n",
    "LISTD= [1,2,3,4,5,6,7,8,9,10]\n",
    "print(LISTD)\n",
    "slice_list= LISTD[2:5]\n",
    "print('slicing elements in a range 2-5')\n",
    "print(slice_list)#prints the num with index val. 2,4,5\n",
    "\n",
    "slice_list= LISTD[::-1]\n",
    "print('\\nreverse of a string:')\n",
    "print(slice_list)"
   ]
  },
  {
   "cell_type": "code",
   "execution_count": 14,
   "metadata": {},
   "outputs": [
    {
     "name": "stdout",
     "output_type": "stream",
     "text": [
      "10\n"
     ]
    }
   ],
   "source": [
    "LISTX= [1,2,3,4]\n",
    "print(sum(LISTX)) #prints sum of all elements in list"
   ]
  },
  {
   "cell_type": "code",
   "execution_count": 20,
   "metadata": {},
   "outputs": [
    {
     "name": "stdout",
     "output_type": "stream",
     "text": [
      "2\n"
     ]
    }
   ],
   "source": [
    "LISTT=[1,2,3,5,6,5,8] \n",
    "print(LISTT.count(5)) #counts total occurances of same element in list"
   ]
  },
  {
   "cell_type": "code",
   "execution_count": 21,
   "metadata": {},
   "outputs": [
    {
     "name": "stdout",
     "output_type": "stream",
     "text": [
      "4\n"
     ]
    }
   ],
   "source": [
    "LIST=[1,2,3,4]\n",
    "print(len(LIST)) #specifies length of list"
   ]
  },
  {
   "cell_type": "code",
   "execution_count": 23,
   "metadata": {},
   "outputs": [
    {
     "name": "stdout",
     "output_type": "stream",
     "text": [
      "2\n"
     ]
    }
   ],
   "source": [
    "lista=['a',1,4,7,9]\n",
    "print(lista.index(4)) #prints index of a num"
   ]
  },
  {
   "cell_type": "code",
   "execution_count": 24,
   "metadata": {},
   "outputs": [
    {
     "name": "stdout",
     "output_type": "stream",
     "text": [
      "10\n"
     ]
    }
   ],
   "source": [
    "#min af all elements of list\n",
    "lista=[50,25,10,46]\n",
    "print(min(lista))"
   ]
  },
  {
   "cell_type": "code",
   "execution_count": 25,
   "metadata": {},
   "outputs": [
    {
     "name": "stdout",
     "output_type": "stream",
     "text": [
      "250\n"
     ]
    }
   ],
   "source": [
    "#max() calculates max elements of list\n",
    "lista=[200,250,110]\n",
    "print(max(lista))"
   ]
  },
  {
   "cell_type": "code",
   "execution_count": 1,
   "metadata": {},
   "outputs": [
    {
     "name": "stdout",
     "output_type": "stream",
     "text": [
      "this is reverse of list\n",
      "[16, 15, 10, 9, 1]\n",
      "\n",
      " initial list\n",
      "[16, 15, 10, 9, 1]\n",
      "\n",
      "sorted in order:\n"
     ]
    },
    {
     "data": {
      "text/plain": [
       "[1, 9, 10, 15, 16]"
      ]
     },
     "execution_count": 1,
     "metadata": {},
     "output_type": "execute_result"
    }
   ],
   "source": [
    "#sort(),reverse()function\n",
    "lista = [1,16,10,15,9]\n",
    "lista.sort(reverse= True)         #reverses the elements of list using flag=true, false\n",
    "print('this is reverse of list')\n",
    "print(lista)\n",
    "\n",
    "print('\\n initial list')\n",
    "print(lista)\n",
    "print('\\nsorted in order:') #sorts the list in order\n",
    "sorted(lista)"
   ]
  },
  {
   "cell_type": "code",
   "execution_count": 1,
   "metadata": {},
   "outputs": [],
   "source": [
    "#deep_copy\n",
    "import copy"
   ]
  },
  {
   "cell_type": "code",
   "execution_count": 6,
   "metadata": {},
   "outputs": [
    {
     "name": "stdout",
     "output_type": "stream",
     "text": [
      "Elements before deepcopy:  [3, 4, 5, 2]\n",
      "The elements after we used deep copy:  [3, 4, 5, 2]\n"
     ]
    }
   ],
   "source": [
    "lst=[3,4,5,2]\n",
    "print('Elements before deepcopy: ',lst)\n",
    "\n",
    "lst1=copy.deepcopy(lst)\n",
    "print ('The elements after we used deep copy: ',lst1)"
   ]
  },
  {
   "cell_type": "code",
   "execution_count": null,
   "metadata": {},
   "outputs": [],
   "source": []
  }
 ],
 "metadata": {
  "kernelspec": {
   "display_name": "Python 3",
   "language": "python",
   "name": "python3"
  },
  "language_info": {
   "codemirror_mode": {
    "name": "ipython",
    "version": 3
   },
   "file_extension": ".py",
   "mimetype": "text/x-python",
   "name": "python",
   "nbconvert_exporter": "python",
   "pygments_lexer": "ipython3",
   "version": "3.7.3"
  }
 },
 "nbformat": 4,
 "nbformat_minor": 2
}
