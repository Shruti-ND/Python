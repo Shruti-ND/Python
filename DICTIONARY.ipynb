{
 "cells": [
  {
   "cell_type": "markdown",
   "metadata": {},
   "source": [
    "#DICTIONARIES :  ITS IS A COLLECTION WHICH IS UNORDERED, CHANGABLE, AND INDEXED.\n",
    "#THEY ARE WRITTEN WITH CURLY BRACKETS, AND THEY HAVE KEYS AND VALUES.\n"
   ]
  },
  {
   "cell_type": "code",
   "execution_count": 13,
   "metadata": {},
   "outputs": [
    {
     "name": "stdout",
     "output_type": "stream",
     "text": [
      "{'name': 'Shruti', 'surname': 'Deshpande', 'edu_qualification': 'B.E', 'branch': 'CSE'}\n"
     ]
    }
   ],
   "source": [
    "#CREATING A DICTIONARY\n",
    "\n",
    "thisdict={'name':'Shruti','surname':'Deshpande','edu_qualification':'B.E','branch':'CSE'}\n",
    "print(thisdict)"
   ]
  },
  {
   "cell_type": "code",
   "execution_count": 14,
   "metadata": {},
   "outputs": [
    {
     "name": "stdout",
     "output_type": "stream",
     "text": [
      "Shruti\n"
     ]
    }
   ],
   "source": [
    "#ACCESSING ITEMS BY REFFERING ITS KEY NAME INSIDE SQUARE BRACKETS:\n",
    "thisdict={\n",
    "    'name':'Shruti',\n",
    "    'surname':'Deshpande'}\n",
    "x = thisdict['name']\n",
    "print(x)"
   ]
  },
  {
   "cell_type": "code",
   "execution_count": 15,
   "metadata": {},
   "outputs": [
    {
     "name": "stdout",
     "output_type": "stream",
     "text": [
      "Deshpande\n"
     ]
    }
   ],
   "source": [
    "#access values using get() method\n",
    "x= thisdict.get('surname')\n",
    "print(x)"
   ]
  },
  {
   "cell_type": "code",
   "execution_count": 17,
   "metadata": {},
   "outputs": [
    {
     "name": "stdout",
     "output_type": "stream",
     "text": [
      "{'fruit': 'apple', 'flower': 'tulip', 'colour': 'Blue'}\n"
     ]
    }
   ],
   "source": [
    "#CHANGE VALUES: WE CAN CHANGE THE VALUE OF A SPECIFIC ITEM BY REFFEREING ITS KEY NAME\n",
    "\n",
    "dicta={'fruit':'apple',\n",
    "       'flower':'tulip',\n",
    "          'colour': 'Blue'}\n",
    "print(dicta)"
   ]
  },
  {
   "cell_type": "code",
   "execution_count": 4,
   "metadata": {},
   "outputs": [
    {
     "name": "stdout",
     "output_type": "stream",
     "text": [
      "{'fruit': 'apple', 'flower': 'tulip', 'colour': 'red'}\n"
     ]
    }
   ],
   "source": [
    "#changing the values : refer to the value to be changed \n",
    "dicta['colour']='red'\n",
    "print(dicta)"
   ]
  },
  {
   "cell_type": "code",
   "execution_count": 3,
   "metadata": {},
   "outputs": [
    {
     "name": "stdout",
     "output_type": "stream",
     "text": [
      "3\n"
     ]
    }
   ],
   "source": [
    "#length() method: prints number of items or key_val \n",
    "dicta={'fruit':'apple',\n",
    "       'flower':'tulip',\n",
    "          'colour': 'Blue'}\n",
    "print(len(dicta))\n",
    "\n"
   ]
  },
  {
   "cell_type": "code",
   "execution_count": 5,
   "metadata": {},
   "outputs": [
    {
     "name": "stdout",
     "output_type": "stream",
     "text": [
      "{'a': 1, 'b': 2, 3: 'e'}\n"
     ]
    }
   ],
   "source": [
    "#ADDING ELEMENTS: WE CAN ADD BY USING NEW INDEX KEY AND ASSIGNING A VALUE TO IT\n",
    "dicta={'a':1,\n",
    "       'b':2}\n",
    "dicta[3]='e'\n",
    "print(dicta) #adding one element\n"
   ]
  },
  {
   "cell_type": "code",
   "execution_count": 12,
   "metadata": {},
   "outputs": [
    {
     "name": "stdout",
     "output_type": "stream",
     "text": [
      "{1: 'x', 'values': ('z', 'data', 'science', 18)}\n"
     ]
    }
   ],
   "source": [
    "#adding set 0f values to a single key\n",
    "dictb={1:'x'}\n",
    "dictb['values']='z','data','science',18\n",
    "print(dictb)"
   ]
  },
  {
   "cell_type": "code",
   "execution_count": 34,
   "metadata": {},
   "outputs": [
    {
     "name": "stdout",
     "output_type": "stream",
     "text": [
      "{'b': 2, 'e': 5, 'g': 8}\n",
      "\n",
      "values after updating:\n",
      "{'b': 24, 'e': 5, 'g': 8}\n"
     ]
    }
   ],
   "source": [
    "#update existing key values:\n",
    "dictc={'b':2,'e':5,'g':8}\n",
    "print(dictc)\n",
    "print('\\nvalues after updating:')\n",
    "dictc['b']=24\n",
    "print(dictc)"
   ]
  },
  {
   "cell_type": "code",
   "execution_count": 32,
   "metadata": {},
   "outputs": [
    {
     "name": "stdout",
     "output_type": "stream",
     "text": [
      "{1: 'x', 'values': ('z', 'data', 'science', 18)}\n",
      "{'values': ('z', 'data', 'science', 18)}\n"
     ]
    }
   ],
   "source": [
    "#REMOVING ITEMS FROM DICTIONARY\n",
    "\n",
    "print(dictb) #INITIAL DICT\n",
    "#1: using del\n",
    "del dictb[1] #specify the key name[] to be deleted\n",
    "print(dictb)\n"
   ]
  },
  {
   "cell_type": "code",
   "execution_count": 54,
   "metadata": {},
   "outputs": [
    {
     "name": "stdout",
     "output_type": "stream",
     "text": [
      "{1: 'a', 2: 'b', 3: 'c', 5: '20'}\n",
      "{1: 'a', 2: 'b', 3: 'c'}\n"
     ]
    }
   ],
   "source": [
    "#using POPITEM()\n",
    "dictc={1:'a',2:'b',3:'c',5:'20'}\n",
    "print(dictc)\n",
    "#this popitem() removes the last inserted item \n",
    "dictc.popitem()\n",
    "print(dictc)\n"
   ]
  },
  {
   "cell_type": "code",
   "execution_count": 55,
   "metadata": {},
   "outputs": [
    {
     "name": "stdout",
     "output_type": "stream",
     "text": [
      "{1: 'a', 2: 'b', 3: 'c'}\n",
      "{2: 'b', 3: 'c'}\n"
     ]
    }
   ],
   "source": [
    "#using pop(): by giving specific key value\n",
    "print(dictc)\n",
    "dictc.pop(1)\n",
    "print(dictc)"
   ]
  },
  {
   "cell_type": "code",
   "execution_count": 43,
   "metadata": {},
   "outputs": [
    {
     "name": "stdout",
     "output_type": "stream",
     "text": [
      "{'values': ('z', 'data', 'science', 18)}\n",
      "{}\n"
     ]
    }
   ],
   "source": [
    "#clearing the values of a dictionary\n",
    "print(dictb)\n",
    "dictb.clear()\n",
    "print(dictb)"
   ]
  },
  {
   "cell_type": "code",
   "execution_count": 3,
   "metadata": {},
   "outputs": [
    {
     "name": "stdout",
     "output_type": "stream",
     "text": [
      "{1: 10, 2: 20, 3: 40, 5: 60}\n",
      "{1: 10, 2: 20, 3: 40, 5: 60}\n"
     ]
    },
    {
     "data": {
      "text/plain": [
       "{1: 10, 2: 20, 3: 40, 5: 60}"
      ]
     },
     "execution_count": 3,
     "metadata": {},
     "output_type": "execute_result"
    }
   ],
   "source": [
    "#COPYING IN DICTIONAIES\n",
    "#1:copy()\n",
    "dicta={1:10,2:20,3:40,5:60}\n",
    "print(dicta)\n",
    "\n",
    "x=dicta.copy()\n",
    "print(x)\n",
    "\n",
    "\n",
    "print \n",
    "print\n",
    "import copy\n",
    "y=copy.deepcopy(dicta)\n",
    "y"
   ]
  },
  {
   "cell_type": "code",
   "execution_count": 46,
   "metadata": {},
   "outputs": [
    {
     "name": "stdout",
     "output_type": "stream",
     "text": [
      "{1: 10, 2: 20, 3: 40, 5: 60}\n",
      "{1: 10, 2: 20, 3: 40, 5: 60}\n"
     ]
    }
   ],
   "source": [
    "#2: dict() : another way to copy using built-in method\n",
    "print(dicta)\n",
    "y=dict(dicta)\n",
    "print(dicta)"
   ]
  },
  {
   "cell_type": "code",
   "execution_count": 2,
   "metadata": {},
   "outputs": [
    {
     "name": "stdout",
     "output_type": "stream",
     "text": [
      "dict_values(['audi', 'mustang', 'R & R'])\n"
     ]
    }
   ],
   "source": [
    "#values(): returns a view object, means v.obj contains val. of dict as list\n",
    "car={1:'audi',\n",
    "    2: 'martin',\n",
    "    3: 'R & R'}\n",
    "x= car.values()\n",
    "car[2]= 'mustang'\n",
    "print(x)"
   ]
  },
  {
   "cell_type": "code",
   "execution_count": 4,
   "metadata": {},
   "outputs": [
    {
     "name": "stdout",
     "output_type": "stream",
     "text": [
      "{1: 'audi', 2: 'martin', 3: ' R & R'}\n",
      "{1: 'audi', 2: 'martin', 3: ' R & R', 4: 'mustang'}\n",
      "{}\n"
     ]
    },
    {
     "data": {
      "text/plain": [
       "{4: 'mustang'}"
      ]
     },
     "execution_count": 4,
     "metadata": {},
     "output_type": "execute_result"
    }
   ],
   "source": [
    "#SETDEFAULT(): returnd val. of specific key\n",
    "car={1:'audi',\n",
    "    2: 'martin',\n",
    "    3: ' R & R'}\n",
    "print(car)\n",
    "car.setdefault(4,'mustang')\n",
    "\n",
    "print(car)\n",
    "\n",
    "print\n",
    "print\n",
    "car={ }\n",
    "print(car)\n",
    "car.setdefault(4,'mustang')\n",
    "car"
   ]
  },
  {
   "cell_type": "markdown",
   "metadata": {},
   "source": [
    "#concatenation of 2 dictionaries\n",
    "d1={1:'a',2:'b'}\n",
    "d2={3:'c'}\n",
    "\n",
    "d3=d1 + d2\n",
    "print ('Concatenation: ',d3)"
   ]
  },
  {
   "cell_type": "code",
   "execution_count": null,
   "metadata": {},
   "outputs": [],
   "source": []
  }
 ],
 "metadata": {
  "kernelspec": {
   "display_name": "Python 3",
   "language": "python",
   "name": "python3"
  },
  "language_info": {
   "codemirror_mode": {
    "name": "ipython",
    "version": 3
   },
   "file_extension": ".py",
   "mimetype": "text/x-python",
   "name": "python",
   "nbconvert_exporter": "python",
   "pygments_lexer": "ipython3",
   "version": "3.7.3"
  }
 },
 "nbformat": 4,
 "nbformat_minor": 2
}
