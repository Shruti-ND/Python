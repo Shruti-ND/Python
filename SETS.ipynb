{
 "cells": [
  {
   "cell_type": "code",
   "execution_count": 9,
   "metadata": {},
   "outputs": [
    {
     "name": "stdout",
     "output_type": "stream",
     "text": [
      "seta is:\n",
      "{1, 2, 5, 6, 7, 8}\n",
      "\n",
      "empty set:\n",
      "set()\n"
     ]
    }
   ],
   "source": [
    "#SETS in Python are collection of unordered elements\n",
    "#In python sets are written in curly braces{}\n",
    "\n",
    "#1 CREATION OF A SET\n",
    "seta = {1,2,5,1,7,6,8,1} #duplicate elements are removed\n",
    "print('seta is:')\n",
    "print(seta)\n",
    "\n",
    "c=set()\n",
    "print('\\nempty set:')\n",
    "print(c)\n"
   ]
  },
  {
   "cell_type": "code",
   "execution_count": null,
   "metadata": {},
   "outputs": [],
   "source": []
  },
  {
   "cell_type": "code",
   "execution_count": 22,
   "metadata": {},
   "outputs": [
    {
     "name": "stdout",
     "output_type": "stream",
     "text": [
      "{'JAVA', 'C', 'C++'}\n",
      "{'PYTHON', 'JAVA', 'C', 'C++'}\n",
      "\n",
      "initial set\n",
      "{1, 2, 3, 4}\n",
      "after update:\n",
      "{1, 2, 3, 4, 'C++', 'C', 'JAVA', 'PYTHON'}\n"
     ]
    }
   ],
   "source": [
    "#add() and update() items in set\n",
    "seta= {'C','C++','JAVA'}\n",
    "print(seta)\n",
    "seta.add('PYTHON') #adds value to existing list\n",
    "print(seta)\n",
    "\n",
    "#UPDATE() #is used to merge 2 or more sets\n",
    "setb={1,2,3,4}\n",
    "print('\\ninitial set')\n",
    "print(setb)\n",
    "\n",
    "setb.update(seta)\n",
    "print('after update:')\n",
    "print(setb)"
   ]
  },
  {
   "cell_type": "code",
   "execution_count": 25,
   "metadata": {},
   "outputs": [
    {
     "name": "stdout",
     "output_type": "stream",
     "text": [
      "{'apple', 'juice'}\n",
      "{50, 250, 100}\n"
     ]
    }
   ],
   "source": [
    "#REMOVE ITEM: removes or discards items in set\n",
    "#we can also use pop()\n",
    "seta={'apple','juice',10}\n",
    "\n",
    "seta.remove(10)\n",
    "\n",
    "print(seta)\n",
    "\n",
    "#using DISCARD()\n",
    "setb={50,100,200,250}\n",
    "\n",
    "setb.discard(200)\n",
    "print(setb)"
   ]
  },
  {
   "cell_type": "code",
   "execution_count": 44,
   "metadata": {},
   "outputs": [
    {
     "name": "stdout",
     "output_type": "stream",
     "text": [
      "length of seta is:\n",
      "3\n",
      "\n",
      " copied set is:\n",
      "{'mars', 'earth', 'venus'}\n"
     ]
    }
   ],
   "source": [
    "#Get length of set using len()\n",
    "a = {0,'an','apple',80,2,3,4,5,'b','sd'}\n",
    "print('length of seta is:')\n",
    "print(len(seta))\n",
    "\n",
    "b= {'earth','mars','venus'}\n",
    "print('\\n copied set is:')\n",
    "b1=b.copy()\n",
    "print(b1)\n"
   ]
  },
  {
   "cell_type": "code",
   "execution_count": 33,
   "metadata": {},
   "outputs": [
    {
     "name": "stdout",
     "output_type": "stream",
     "text": [
      "set()\n"
     ]
    }
   ],
   "source": [
    "#clearing set using clear()\n",
    "seta={'rose','lily','lavander'}\n",
    "seta.clear()\n",
    "print(seta)"
   ]
  },
  {
   "cell_type": "code",
   "execution_count": 35,
   "metadata": {},
   "outputs": [
    {
     "name": "stdout",
     "output_type": "stream",
     "text": [
      "{80, 90, 'lilly', 'rose'}\n"
     ]
    }
   ],
   "source": [
    "#SET METHODS\n",
    "#union() contains all items from original set and all items from specified sets\n",
    "seta={80,90}\n",
    "setb={'rose','lilly'}\n",
    "x=seta.union(setb)\n",
    "print(x)"
   ]
  },
  {
   "cell_type": "code",
   "execution_count": 36,
   "metadata": {},
   "outputs": [
    {
     "name": "stdout",
     "output_type": "stream",
     "text": [
      "{'kiwi'}\n"
     ]
    }
   ],
   "source": [
    "#INTERSECTION() returns similar element that exist in 2 or lists\n",
    "seta={'rose','lily','kiwi'}\n",
    "setb={'kiwi',1,100}\n",
    "x=seta.intersection(setb)\n",
    "print(x)"
   ]
  },
  {
   "cell_type": "code",
   "execution_count": 4,
   "metadata": {},
   "outputs": [
    {
     "name": "stdout",
     "output_type": "stream",
     "text": [
      "{'rose', 'lily'}\n",
      "\n",
      "\n",
      "{'tuplip', 'marigold'}\n"
     ]
    }
   ],
   "source": [
    "#DIFFERENCE() returns the items that exist in only set a and not b and vice versa\n",
    "a={'lily','sunflower','rose'}\n",
    "b={'marigold','sunflower','tuplip'}\n",
    "x=a.difference(b)\n",
    "print(x)\n",
    "\n",
    "print('\\n')\n",
    "y=b.difference(a)\n",
    "print(y)\n",
    "#also discareds similar items"
   ]
  },
  {
   "cell_type": "code",
   "execution_count": 1,
   "metadata": {},
   "outputs": [
    {
     "name": "stdout",
     "output_type": "stream",
     "text": [
      "similar items have been removed 1,79:\n",
      "{2, 546, 22, 333, 46}\n"
     ]
    }
   ],
   "source": [
    "#SYMMETRIC_DIFFERENCE() returns items of both the sets but discards the similar items\n",
    "a={1,46,79,546}\n",
    "b={2,22,333,1,79}\n",
    "c=a.symmetric_difference(b)\n",
    "print('similar items have been removed 1,79:')\n",
    "print(c)\n"
   ]
  },
  {
   "cell_type": "code",
   "execution_count": 26,
   "metadata": {},
   "outputs": [
    {
     "name": "stdout",
     "output_type": "stream",
     "text": [
      "false\n"
     ]
    }
   ],
   "source": [
    "#MEMBERSHIP OPERATORS(in, not in) used to validatethe membership of a value\n",
    "\n",
    "#1) in(): checks if the value exists in a sequence and is true if it finds the val else false\n",
    "a={2,4,6,8}\n",
    "b={3,62,7,100}\n",
    "\n",
    "for z in a:\n",
    "    if z in b:\n",
    "        print('true')\n",
    "else:\n",
    "        print('false')\n"
   ]
  },
  {
   "cell_type": "code",
   "execution_count": 38,
   "metadata": {},
   "outputs": [
    {
     "name": "stdout",
     "output_type": "stream",
     "text": [
      "\n",
      "a  exist in s\n",
      "\n",
      "b does not exist in s\n"
     ]
    }
   ],
   "source": [
    "#2) not in():  \n",
    "\n",
    "a={2}\n",
    "b={10}\n",
    "\n",
    "s={2,3,4,5}\n",
    "if (a not in s):\n",
    "    print('\\na  exist in s')\n",
    "else:\n",
    "    print('\\nb  does not exist')\n",
    "\n",
    "if b not in s:\n",
    "    print('\\nb does not exist in s')\n",
    "else:\n",
    "    print('\\nb exists')\n",
    "\n"
   ]
  },
  {
   "cell_type": "code",
   "execution_count": 6,
   "metadata": {},
   "outputs": [
    {
     "name": "stdout",
     "output_type": "stream",
     "text": [
      "out_set using set comprehension: {24, 4, 44}\n"
     ]
    }
   ],
   "source": [
    "#SET COMPREHENSION(provide us with short and concise form to create new sets)\n",
    "#PROGRAM TO PRINT EVEN NUMBERS\n",
    "input_set={23,4,5,21,24,44}\n",
    "set_using_comp = {a for a in input_set if a % 2 == 0}\n",
    "print('out_set using set comprehension:',set_using_comp)\n"
   ]
  },
  {
   "cell_type": "code",
   "execution_count": null,
   "metadata": {},
   "outputs": [],
   "source": []
  }
 ],
 "metadata": {
  "kernelspec": {
   "display_name": "Python 3",
   "language": "python",
   "name": "python3"
  },
  "language_info": {
   "codemirror_mode": {
    "name": "ipython",
    "version": 3
   },
   "file_extension": ".py",
   "mimetype": "text/x-python",
   "name": "python",
   "nbconvert_exporter": "python",
   "pygments_lexer": "ipython3",
   "version": "3.7.3"
  }
 },
 "nbformat": 4,
 "nbformat_minor": 2
}
