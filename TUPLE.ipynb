{
 "cells": [
  {
   "cell_type": "code",
   "execution_count": 31,
   "metadata": {},
   "outputs": [
    {
     "name": "stdout",
     "output_type": "stream",
     "text": [
      "output1: ('hp', 'dell')\n",
      "\n",
      "output2: (1, 2)\n"
     ]
    }
   ],
   "source": [
    "#TUPLES are collection of python objects separated by commas.\n",
    "# TUPLES ARE IMMUTABLE AND we cannot change elements in a tuple\n",
    "\n",
    "#TUPLE CREATION\n",
    "\n",
    "a= 'hp', 'dell'\n",
    "print('output1:',a)\n",
    "\n",
    "b = (1, 2)\n",
    "print('\\noutput2:',b)\n"
   ]
  },
  {
   "cell_type": "code",
   "execution_count": 9,
   "metadata": {},
   "outputs": [
    {
     "name": "stdout",
     "output_type": "stream",
     "text": [
      "(10, 12.2, 'mix')\n"
     ]
    }
   ],
   "source": [
    "#TUPLES WITH MIXED DATATYPES\n",
    "tup= (10,12.2,'mix')\n",
    "print(tup)"
   ]
  },
  {
   "cell_type": "code",
   "execution_count": 15,
   "metadata": {},
   "outputs": [
    {
     "name": "stdout",
     "output_type": "stream",
     "text": [
      "output1:\n",
      "<class 'str'>\n",
      "\n",
      "output2:\n",
      "<class 'tuple'>\n"
     ]
    }
   ],
   "source": [
    "#declaring tuple with single element in it\n",
    "t1='apple'\n",
    "print('output1:')\n",
    "print(type(t1))\n",
    "\n",
    "t2='hello',\n",
    "print('\\noutput2:')\n",
    "print(type(t2))"
   ]
  },
  {
   "cell_type": "code",
   "execution_count": 22,
   "metadata": {},
   "outputs": [
    {
     "name": "stdout",
     "output_type": "stream",
     "text": [
      "p\n",
      "i\n",
      "\n",
      "negative indexing:\n",
      "n\n",
      "t\n"
     ]
    }
   ],
   "source": [
    "#INDEXING IN A TUPLE\n",
    "t= 'p','r','i','n','t'\n",
    "print(t[0])\n",
    "print(t[2])\n",
    "\n",
    "#negative indexing\n",
    "print('\\nnegative indexing:')\n",
    "print(t[-2])\n",
    "print(t[-1])"
   ]
  },
  {
   "cell_type": "code",
   "execution_count": 26,
   "metadata": {},
   "outputs": [
    {
     "name": "stdout",
     "output_type": "stream",
     "text": [
      "('l', 'l')\n",
      "('r', 'o', 'l', 'l', 's')\n",
      "('c', 'e')\n",
      "('r', 'o', 'l', 'l', 's', 'r', 'o', 'y', 'c', 'e')\n"
     ]
    }
   ],
   "source": [
    "#SLICING IN A TUPLE(WE CAN ACCESS RANGE OF ITEMS BY USING ':'slicing)\n",
    "tup='r','o','l','l','s','r','o','y','c','e'\n",
    "# 3rd to 4th element returned\n",
    "print(tup[2:4])\n",
    "\n",
    "#NEGATIVE INDEXING\n",
    "print(tup[:-5])\n",
    "\n",
    "#print 8th element to end\n",
    "print(tup[8:])\n",
    "\n",
    "#print all elements\n",
    "print(tup[:])"
   ]
  },
  {
   "cell_type": "code",
   "execution_count": 28,
   "metadata": {},
   "outputs": [
    {
     "name": "stdout",
     "output_type": "stream",
     "text": [
      "addition of tuples is:\n",
      "('b', 'e', 'e', 't', 'l', 'e', 'p', 'o', 'l', 'o')\n"
     ]
    }
   ],
   "source": [
    "#adding tuples\n",
    "t= 'b','e','e','t','l','e'\n",
    "t1= 'p','o','l','o'\n",
    "#concatenation\n",
    "c = t + t1\n",
    "print('addition of tuples is:')\n",
    "print(c)\n"
   ]
  },
  {
   "cell_type": "code",
   "execution_count": 1,
   "metadata": {},
   "outputs": [
    {
     "ename": "NameError",
     "evalue": "name 't' is not defined",
     "output_type": "error",
     "traceback": [
      "\u001b[1;31m---------------------------------------------------------------------------\u001b[0m",
      "\u001b[1;31mNameError\u001b[0m                                 Traceback (most recent call last)",
      "\u001b[1;32m<ipython-input-1-a0642740c4a2>\u001b[0m in \u001b[0;36m<module>\u001b[1;34m\u001b[0m\n\u001b[0;32m      3\u001b[0m \u001b[0mt\u001b[0m\u001b[1;33m=\u001b[0m\u001b[1;36m1\u001b[0m\u001b[1;33m,\u001b[0m\u001b[1;36m2\u001b[0m\u001b[1;33m\u001b[0m\u001b[1;33m\u001b[0m\u001b[0m\n\u001b[0;32m      4\u001b[0m \u001b[1;32mdel\u001b[0m \u001b[0mt\u001b[0m\u001b[1;33m\u001b[0m\u001b[1;33m\u001b[0m\u001b[0m\n\u001b[1;32m----> 5\u001b[1;33m \u001b[0mprint\u001b[0m\u001b[1;33m(\u001b[0m\u001b[0mt\u001b[0m\u001b[1;33m)\u001b[0m\u001b[1;33m\u001b[0m\u001b[1;33m\u001b[0m\u001b[0m\n\u001b[0m\u001b[0;32m      6\u001b[0m \u001b[1;31m# we cannot delete or remove items from a tuple\u001b[0m\u001b[1;33m\u001b[0m\u001b[1;33m\u001b[0m\u001b[1;33m\u001b[0m\u001b[0m\n",
      "\u001b[1;31mNameError\u001b[0m: name 't' is not defined"
     ]
    }
   ],
   "source": [
    "#deleting a tuple\n",
    "\n",
    "t=1,2\n",
    "del t\n",
    "print(t)\n",
    "# we cannot delete or remove items from a tuple"
   ]
  },
  {
   "cell_type": "code",
   "execution_count": 1,
   "metadata": {},
   "outputs": [
    {
     "name": "stdout",
     "output_type": "stream",
     "text": [
      "3\n"
     ]
    }
   ],
   "source": [
    "#TUPLE METHODS(COUNT(), INDEX())\n",
    "#COUNT(): RETURNS THE NUMBER OF TIMES THE VALUE HAS OCCURED IN THE TUPLE\n",
    "#        : here value means the element to be searched\n",
    "t=1,2,4,1,20,5,1\n",
    "X= t.count(1)\n",
    "print(X)\n",
    "\n",
    "\n"
   ]
  },
  {
   "cell_type": "code",
   "execution_count": 2,
   "metadata": {},
   "outputs": [
    {
     "name": "stdout",
     "output_type": "stream",
     "text": [
      "8\n"
     ]
    }
   ],
   "source": [
    "#INDEX():METHOD FINDS FIRST OCCURENCE OF THE SPECIFIED VALUE.\n",
    "# IF THE VALUE IS NOT FOUND THEN METHOD RAISES AN EXCEPTION\n",
    "t= 0,1,2,3,4,5,6,5,7,10\n",
    "X= t.index(7)\n",
    "print(X)\n"
   ]
  },
  {
   "cell_type": "code",
   "execution_count": null,
   "metadata": {},
   "outputs": [],
   "source": []
  }
 ],
 "metadata": {
  "kernelspec": {
   "display_name": "Python 3",
   "language": "python",
   "name": "python3"
  },
  "language_info": {
   "codemirror_mode": {
    "name": "ipython",
    "version": 3
   },
   "file_extension": ".py",
   "mimetype": "text/x-python",
   "name": "python",
   "nbconvert_exporter": "python",
   "pygments_lexer": "ipython3",
   "version": "3.7.4"
  }
 },
 "nbformat": 4,
 "nbformat_minor": 2
}
